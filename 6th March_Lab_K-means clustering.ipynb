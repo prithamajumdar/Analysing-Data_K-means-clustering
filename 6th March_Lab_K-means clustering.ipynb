{
 "cells": [
  {
   "cell_type": "markdown",
   "id": "03a3ce67",
   "metadata": {},
   "source": [
    "## Importing required packages "
   ]
  },
  {
   "cell_type": "code",
   "execution_count": 1,
   "id": "e16a7afc",
   "metadata": {},
   "outputs": [],
   "source": [
    "import pandas as pd\n",
    "import numpy as np\n",
    "from sklearn.model_selection import train_test_split\n",
    "from sklearn.metrics import accuracy_score\n",
    "from sklearn.feature_extraction.text import CountVectorizer\n",
    "from sklearn.feature_extraction.text import TfidfVectorizer\n",
    "from sklearn.cluster import KMeans\n",
    "from sklearn.decomposition import PCA\n",
    "import matplotlib.pyplot as plt"
   ]
  },
  {
   "cell_type": "markdown",
   "id": "d100cd21",
   "metadata": {},
   "source": [
    "## Loading file "
   ]
  },
  {
   "cell_type": "code",
   "execution_count": 2,
   "id": "c3ffbce1",
   "metadata": {},
   "outputs": [],
   "source": [
    "df = pd.read_csv(file_path) "
   ]
  },
  {
   "cell_type": "code",
   "execution_count": 3,
   "id": "3d03465f",
   "metadata": {},
   "outputs": [],
   "source": [
    "def plot_clusters(X, clusters, title=\"Clustering Results\"):\n",
    "    pca = PCA(n_components=2)\n",
    "    X_pca = pca.fit_transform(X.toarray())\n",
    "    \n",
    "    plt.figure(figsize=(8, 6))\n",
    "    plt.scatter(X_pca[:, 0], X_pca[:, 1], c=clusters, cmap='viridis', alpha=0.7)\n",
    "    for i, txt in enumerate(X):\n",
    "        plt.annotate(i, (X_pca[i, 0], X_pca[i, 1]))\n",
    "    \n",
    "    plt.title(title)\n",
    "    plt.colorbar()\n",
    "    plt.show()"
   ]
  },
  {
   "cell_type": "code",
   "execution_count": 4,
   "id": "fddba290",
   "metadata": {},
   "outputs": [
    {
     "data": {
      "text/html": [
       "<div>\n",
       "<style scoped>\n",
       "    .dataframe tbody tr th:only-of-type {\n",
       "        vertical-align: middle;\n",
       "    }\n",
       "\n",
       "    .dataframe tbody tr th {\n",
       "        vertical-align: top;\n",
       "    }\n",
       "\n",
       "    .dataframe thead th {\n",
       "        text-align: right;\n",
       "    }\n",
       "</style>\n",
       "<table border=\"1\" class=\"dataframe\">\n",
       "  <thead>\n",
       "    <tr style=\"text-align: right;\">\n",
       "      <th></th>\n",
       "      <th>No</th>\n",
       "      <th>Sentences</th>\n",
       "      <th>Subject of comparison</th>\n",
       "      <th>Object of comparison</th>\n",
       "      <th>Nature</th>\n",
       "      <th>Categories</th>\n",
       "      <th>Feature matching</th>\n",
       "      <th>Symmetry</th>\n",
       "      <th>Salience</th>\n",
       "      <th>Broad, unifying concept</th>\n",
       "      <th>Domain incongruence</th>\n",
       "      <th>Gold</th>\n",
       "    </tr>\n",
       "  </thead>\n",
       "  <tbody>\n",
       "    <tr>\n",
       "      <th>0</th>\n",
       "      <td>1</td>\n",
       "      <td>Tom is as fast as a leopard.</td>\n",
       "      <td>Tom</td>\n",
       "      <td>a leopard</td>\n",
       "      <td>Qualitative</td>\n",
       "      <td>Different basic level category (human, animal)</td>\n",
       "      <td>More prominent differences</td>\n",
       "      <td>Asymmetrical</td>\n",
       "      <td>High salience in object of comparison</td>\n",
       "      <td>Meaningful</td>\n",
       "      <td>Distinct</td>\n",
       "      <td>Simile</td>\n",
       "    </tr>\n",
       "    <tr>\n",
       "      <th>1</th>\n",
       "      <td>2</td>\n",
       "      <td>But he’s no fool, even if he is as obstinate a...</td>\n",
       "      <td>He</td>\n",
       "      <td>a mule</td>\n",
       "      <td>Qualitative</td>\n",
       "      <td>Different basic level category (human, animal)</td>\n",
       "      <td>More prominent differences</td>\n",
       "      <td>Asymmetrical</td>\n",
       "      <td>High salience in object of comparison</td>\n",
       "      <td>Meaningful</td>\n",
       "      <td>Distinct</td>\n",
       "      <td>Simile</td>\n",
       "    </tr>\n",
       "    <tr>\n",
       "      <th>2</th>\n",
       "      <td>3</td>\n",
       "      <td>I was as cool as a cucumber.</td>\n",
       "      <td>I</td>\n",
       "      <td>cucumber</td>\n",
       "      <td>Qualitative</td>\n",
       "      <td>Different basic level category (human, fruit)</td>\n",
       "      <td>More prominent differences</td>\n",
       "      <td>Asymmetrical</td>\n",
       "      <td>High salience in object of comparison</td>\n",
       "      <td>Meaningful</td>\n",
       "      <td>Distinct</td>\n",
       "      <td>Simile</td>\n",
       "    </tr>\n",
       "    <tr>\n",
       "      <th>3</th>\n",
       "      <td>4</td>\n",
       "      <td>He paid as much as a million dollars for the p...</td>\n",
       "      <td>He</td>\n",
       "      <td>-</td>\n",
       "      <td>-</td>\n",
       "      <td>-</td>\n",
       "      <td>-</td>\n",
       "      <td>-</td>\n",
       "      <td>-</td>\n",
       "      <td>-</td>\n",
       "      <td>-</td>\n",
       "      <td>Not Applicable</td>\n",
       "    </tr>\n",
       "    <tr>\n",
       "      <th>4</th>\n",
       "      <td>5</td>\n",
       "      <td>The wicked flee when no one pursues; but the r...</td>\n",
       "      <td>Righteous</td>\n",
       "      <td>a lion</td>\n",
       "      <td>Qualitative</td>\n",
       "      <td>Different basic level category (human, animal)</td>\n",
       "      <td>More prominent differences</td>\n",
       "      <td>Asymmetrical</td>\n",
       "      <td>High salience in object of comparison</td>\n",
       "      <td>Meaningful</td>\n",
       "      <td>Distinct</td>\n",
       "      <td>Simile</td>\n",
       "    </tr>\n",
       "  </tbody>\n",
       "</table>\n",
       "</div>"
      ],
      "text/plain": [
       "   No                                          Sentences  \\\n",
       "0   1                       Tom is as fast as a leopard.   \n",
       "1   2  But he’s no fool, even if he is as obstinate a...   \n",
       "2   3                       I was as cool as a cucumber.   \n",
       "3   4  He paid as much as a million dollars for the p...   \n",
       "4   5  The wicked flee when no one pursues; but the r...   \n",
       "\n",
       "  Subject of comparison Object of comparison       Nature  \\\n",
       "0                   Tom            a leopard  Qualitative   \n",
       "1                    He               a mule  Qualitative   \n",
       "2                     I             cucumber  Qualitative   \n",
       "3                    He                    -            -   \n",
       "4             Righteous               a lion  Qualitative   \n",
       "\n",
       "                                       Categories  \\\n",
       "0  Different basic level category (human, animal)   \n",
       "1  Different basic level category (human, animal)   \n",
       "2   Different basic level category (human, fruit)   \n",
       "3                                               -   \n",
       "4  Different basic level category (human, animal)   \n",
       "\n",
       "              Feature matching      Symmetry  \\\n",
       "0   More prominent differences  Asymmetrical   \n",
       "1  More prominent differences   Asymmetrical   \n",
       "2   More prominent differences  Asymmetrical   \n",
       "3                            -             -   \n",
       "4   More prominent differences  Asymmetrical   \n",
       "\n",
       "                                Salience Broad, unifying concept  \\\n",
       "0  High salience in object of comparison              Meaningful   \n",
       "1  High salience in object of comparison              Meaningful   \n",
       "2  High salience in object of comparison              Meaningful   \n",
       "3                                      -                       -   \n",
       "4  High salience in object of comparison              Meaningful   \n",
       "\n",
       "  Domain incongruence            Gold  \n",
       "0            Distinct          Simile  \n",
       "1            Distinct          Simile  \n",
       "2            Distinct          Simile  \n",
       "3                   -  Not Applicable  \n",
       "4            Distinct          Simile  "
      ]
     },
     "execution_count": 4,
     "metadata": {},
     "output_type": "execute_result"
    }
   ],
   "source": [
    "df.head()"
   ]
  },
  {
   "cell_type": "markdown",
   "id": "95e0a3a5",
   "metadata": {},
   "source": [
    "## Preparing the dataset "
   ]
  },
  {
   "cell_type": "code",
   "execution_count": 5,
   "id": "334fc9be",
   "metadata": {},
   "outputs": [
    {
     "data": {
      "text/plain": [
       "0                          Tom is as fast as a leopard.\n",
       "1     But he’s no fool, even if he is as obstinate a...\n",
       "2                          I was as cool as a cucumber.\n",
       "3     He paid as much as a million dollars for the p...\n",
       "4     The wicked flee when no one pursues; but the r...\n",
       "                            ...                        \n",
       "95           He always keeps his room as neat as a pin.\n",
       "96                He is as stubborn as a Missouri Mule.\n",
       "97                 The surface was as flat as a mirror.\n",
       "98    It allows very poor people, who don't qualify ...\n",
       "99                          Tom is as gentle as a lamb.\n",
       "Name: Sentences, Length: 100, dtype: object"
      ]
     },
     "execution_count": 5,
     "metadata": {},
     "output_type": "execute_result"
    }
   ],
   "source": [
    "data= df[\"Sentences\"]\n",
    "data"
   ]
  },
  {
   "cell_type": "markdown",
   "id": "d9576c05",
   "metadata": {},
   "source": [
    "## Word-level vectorization using Bag-Of-Words "
   ]
  },
  {
   "cell_type": "code",
   "execution_count": 6,
   "id": "c70a0253",
   "metadata": {},
   "outputs": [],
   "source": [
    "word_vectorizer = CountVectorizer(ngram_range=(1,2), analyzer='word')\n",
    "X_word = word_vectorizer.fit_transform(data)"
   ]
  },
  {
   "cell_type": "code",
   "execution_count": 7,
   "id": "329ec322",
   "metadata": {},
   "outputs": [
    {
     "name": "stdout",
     "output_type": "stream",
     "text": [
      "Shape of X_word: (100, 1725)\n"
     ]
    }
   ],
   "source": [
    "print(f\"Shape of X_word: {X_word.shape}\")"
   ]
  },
  {
   "cell_type": "code",
   "execution_count": 8,
   "id": "99f39d58",
   "metadata": {},
   "outputs": [
    {
     "data": {
      "text/plain": [
       "<100x1725 sparse matrix of type '<class 'numpy.int64'>'\n",
       "\twith 2434 stored elements in Compressed Sparse Row format>"
      ]
     },
     "execution_count": 8,
     "metadata": {},
     "output_type": "execute_result"
    }
   ],
   "source": [
    "X_word"
   ]
  },
  {
   "cell_type": "markdown",
   "id": "3ed43bfe",
   "metadata": {},
   "source": [
    "## Character-level vectorization using Bag-Of-Words"
   ]
  },
  {
   "cell_type": "code",
   "execution_count": 11,
   "id": "3ab0cfcc",
   "metadata": {},
   "outputs": [],
   "source": [
    "char_vectorizer = CountVectorizer(ngram_range=(1,2), analyzer='char')\n",
    "X_char = char_vectorizer.fit_transform(data) "
   ]
  },
  {
   "cell_type": "markdown",
   "id": "0528ee5d",
   "metadata": {},
   "source": [
    "## K-means clustering model training on word unigrams and bigrams "
   ]
  },
  {
   "cell_type": "code",
   "execution_count": 12,
   "id": "d57a08f4",
   "metadata": {},
   "outputs": [],
   "source": [
    "clusters = KMeans(n_clusters=3, random_state=42, n_init=10).fit(X_word)"
   ]
  },
  {
   "cell_type": "code",
   "execution_count": 13,
   "id": "9c48c090",
   "metadata": {},
   "outputs": [
    {
     "name": "stdout",
     "output_type": "stream",
     "text": [
      "Cluster labels: [1 1 1 1 1 1 1 1 1 1 1 1 1 1 1 1 1 0 1 1 1 1 1 1 1 1 1 1 1 1 1 1 1 1 1 1 1\n",
      " 1 1 1 1 1 1 1 1 1 1 1 1 1 0 1 1 1 1 1 1 1 1 1 1 1 1 1 1 1 1 1 0 1 1 1 1 1\n",
      " 1 1 1 1 1 1 1 1 1 1 1 1 2 1 1 1 1 1 1 1 1 1 1 1 1 1]\n"
     ]
    }
   ],
   "source": [
    "print(\"Cluster labels:\", clusters.labels_)"
   ]
  },
  {
   "cell_type": "markdown",
   "id": "17dd7f42",
   "metadata": {},
   "source": [
    "## K-means clustering model training on character unigrams and bigrams "
   ]
  },
  {
   "cell_type": "code",
   "execution_count": 14,
   "id": "5bf5ca26",
   "metadata": {},
   "outputs": [],
   "source": [
    "clusters = KMeans(n_clusters=2, random_state=0, n_init=10).fit(X_char)"
   ]
  },
  {
   "cell_type": "code",
   "execution_count": 15,
   "id": "90126d6e",
   "metadata": {},
   "outputs": [
    {
     "name": "stdout",
     "output_type": "stream",
     "text": [
      "Cluster labels: [1 1 1 1 1 1 1 1 1 1 1 1 1 1 1 1 1 0 1 1 1 0 1 1 1 1 1 0 1 0 1 1 1 1 1 1 1\n",
      " 1 1 1 1 1 0 1 1 1 0 1 0 1 0 0 0 1 0 1 1 1 1 1 1 1 1 1 0 0 1 1 0 1 1 1 1 1\n",
      " 1 0 1 1 1 1 1 1 1 1 0 1 0 1 1 1 1 1 1 1 1 1 1 1 1 1]\n"
     ]
    }
   ],
   "source": [
    "print(\"Cluster labels:\", clusters.labels_)"
   ]
  },
  {
   "cell_type": "markdown",
   "id": "1ac15549",
   "metadata": {},
   "source": [
    "## Word-level vectorization using Tf-Idf "
   ]
  },
  {
   "cell_type": "code",
   "execution_count": 16,
   "id": "07d97d79",
   "metadata": {},
   "outputs": [],
   "source": [
    "word_vectorizer = TfidfVectorizer(ngram_range=(1,2), analyzer='word')\n",
    "X_word = word_vectorizer.fit_transform(data)"
   ]
  },
  {
   "cell_type": "markdown",
   "id": "635aecfa",
   "metadata": {},
   "source": [
    "## K-means clustering model training on character unigrams and bigrams "
   ]
  },
  {
   "cell_type": "code",
   "execution_count": 23,
   "id": "aa7d7276",
   "metadata": {},
   "outputs": [],
   "source": [
    "clusters = KMeans(n_clusters=2, random_state=0, n_init=10).fit(X_word)"
   ]
  },
  {
   "cell_type": "code",
   "execution_count": 21,
   "id": "8426a496",
   "metadata": {},
   "outputs": [
    {
     "name": "stdout",
     "output_type": "stream",
     "text": [
      "Cluster labels: [1 2 1 0 2 2 2 1 1 1 1 1 1 1 0 2 1 0 0 2 1 0 0 0 2 1 1 0 1 0 0 1 0 2 1 0 0\n",
      " 2 2 1 1 1 0 0 2 1 1 1 0 1 0 2 0 2 0 1 1 1 2 0 2 1 0 1 0 0 0 2 0 1 1 2 1 1\n",
      " 2 0 1 1 2 2 1 1 0 2 1 1 0 2 2 1 1 1 2 1 1 2 2 0 0 1]\n"
     ]
    }
   ],
   "source": [
    "print(\"Cluster labels:\", clusters.labels_)"
   ]
  },
  {
   "cell_type": "code",
   "execution_count": 24,
   "id": "258eaab0",
   "metadata": {},
   "outputs": [
    {
     "data": {
      "image/png": "[encoded data removed]",
      "text/plain": [
       "<Figure size 800x600 with 2 Axes>"
      ]
     },
     "metadata": {},
     "output_type": "display_data"
    }
   ],
   "source": [
    "plot_clusters(X_word, clusters.labels_)"
   ]
  }
 ],
 "metadata": {
  "kernelspec": {
   "display_name": "Python 3 (ipykernel)",
   "language": "python",
   "name": "python3"
  },
  "language_info": {
   "codemirror_mode": {
    "name": "ipython",
    "version": 3
   },
   "file_extension": ".py",
   "mimetype": "text/x-python",
   "name": "python",
   "nbconvert_exporter": "python",
   "pygments_lexer": "ipython3",
   "version": "3.9.12"
  }
 },
 "nbformat": 4,
 "nbformat_minor": 5
}
